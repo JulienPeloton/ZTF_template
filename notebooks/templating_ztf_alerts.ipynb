{
 "cells": [
  {
   "cell_type": "markdown",
   "metadata": {},
   "source": [
    "# Templating ZTF alerts"
   ]
  },
  {
   "cell_type": "markdown",
   "metadata": {},
   "source": [
    "## Reading ZTF alerts\n",
    "\n",
    "Let's first read bunch of ZTF alerts (from January 13 2020)"
   ]
  },
  {
   "cell_type": "code",
   "execution_count": 1,
   "metadata": {},
   "outputs": [],
   "source": [
    "from fink_client.avroUtils import AlertReader\n",
    "\n",
    "# Generic reader for Avro files\n",
    "# You can also specify a single file\n",
    "r = AlertReader('../sampledata')\n",
    "\n",
    "# Materialize data as a Pandas DataFrame\n",
    "alerts = r.to_pandas()"
   ]
  },
  {
   "cell_type": "markdown",
   "metadata": {},
   "source": [
    "Let's see what in our alerts"
   ]
  },
  {
   "cell_type": "code",
   "execution_count": 2,
   "metadata": {},
   "outputs": [
    {
     "data": {
      "text/html": [
       "<div>\n",
       "<style scoped>\n",
       "    .dataframe tbody tr th:only-of-type {\n",
       "        vertical-align: middle;\n",
       "    }\n",
       "\n",
       "    .dataframe tbody tr th {\n",
       "        vertical-align: top;\n",
       "    }\n",
       "\n",
       "    .dataframe thead th {\n",
       "        text-align: right;\n",
       "    }\n",
       "</style>\n",
       "<table border=\"1\" class=\"dataframe\">\n",
       "  <thead>\n",
       "    <tr style=\"text-align: right;\">\n",
       "      <th></th>\n",
       "      <th>schemavsn</th>\n",
       "      <th>publisher</th>\n",
       "      <th>objectId</th>\n",
       "      <th>candid</th>\n",
       "      <th>candidate</th>\n",
       "      <th>prv_candidates</th>\n",
       "      <th>cutoutScience</th>\n",
       "      <th>cutoutTemplate</th>\n",
       "      <th>cutoutDifference</th>\n",
       "    </tr>\n",
       "  </thead>\n",
       "  <tbody>\n",
       "    <tr>\n",
       "      <td>0</td>\n",
       "      <td>3.3</td>\n",
       "      <td>ZTF (www.ztf.caltech.edu)</td>\n",
       "      <td>ZTF20aaeyyno</td>\n",
       "      <td>1107083294115015013</td>\n",
       "      <td>{'jd': 2458861.5832986, 'fid': 2, 'pid': 11070...</td>\n",
       "      <td>[{'jd': 2458835.5740856, 'fid': 2, 'pid': 1081...</td>\n",
       "      <td>{'fileName': 'candid1107083294115015013_pid110...</td>\n",
       "      <td>{'fileName': 'candid1107083294115015013_ref.fi...</td>\n",
       "      <td>{'fileName': 'candid1107083294115015013_pid110...</td>\n",
       "    </tr>\n",
       "    <tr>\n",
       "      <td>1</td>\n",
       "      <td>3.3</td>\n",
       "      <td>ZTF (www.ztf.caltech.edu)</td>\n",
       "      <td>ZTF18abasuac</td>\n",
       "      <td>1107088094015015006</td>\n",
       "      <td>{'jd': 2458861.5880903, 'fid': 1, 'pid': 11070...</td>\n",
       "      <td>[{'jd': 2458833.6249306, 'fid': 1, 'pid': 1079...</td>\n",
       "      <td>{'fileName': 'candid1107088094015015006_pid110...</td>\n",
       "      <td>{'fileName': 'candid1107088094015015006_ref.fi...</td>\n",
       "      <td>{'fileName': 'candid1107088094015015006_pid110...</td>\n",
       "    </tr>\n",
       "    <tr>\n",
       "      <td>2</td>\n",
       "      <td>3.3</td>\n",
       "      <td>ZTF (www.ztf.caltech.edu)</td>\n",
       "      <td>ZTF18abscgeq</td>\n",
       "      <td>1107085322515015001</td>\n",
       "      <td>{'jd': 2458861.5853241, 'fid': 1, 'pid': 11070...</td>\n",
       "      <td>[{'jd': 2458837.5841204, 'fid': 2, 'pid': 1083...</td>\n",
       "      <td>{'fileName': 'candid1107085322515015001_pid110...</td>\n",
       "      <td>{'fileName': 'candid1107085322515015001_ref.fi...</td>\n",
       "      <td>{'fileName': 'candid1107085322515015001_pid110...</td>\n",
       "    </tr>\n",
       "    <tr>\n",
       "      <td>3</td>\n",
       "      <td>3.3</td>\n",
       "      <td>ZTF (www.ztf.caltech.edu)</td>\n",
       "      <td>ZTF18abuuoea</td>\n",
       "      <td>1107083292715010005</td>\n",
       "      <td>{'jd': 2458861.5832986, 'fid': 2, 'pid': 11070...</td>\n",
       "      <td>[{'jd': 2458835.5740856, 'fid': 2, 'pid': 1081...</td>\n",
       "      <td>{'fileName': 'candid1107083292715010005_pid110...</td>\n",
       "      <td>{'fileName': 'candid1107083292715010005_ref.fi...</td>\n",
       "      <td>{'fileName': 'candid1107083292715010005_pid110...</td>\n",
       "    </tr>\n",
       "    <tr>\n",
       "      <td>4</td>\n",
       "      <td>3.3</td>\n",
       "      <td>ZTF (www.ztf.caltech.edu)</td>\n",
       "      <td>ZTF18acfojty</td>\n",
       "      <td>1107082845215010048</td>\n",
       "      <td>{'jd': 2458861.5828472, 'fid': 2, 'pid': 11070...</td>\n",
       "      <td>[{'jd': 2458833.5703356, 'fid': 2, 'pid': 1079...</td>\n",
       "      <td>{'fileName': 'candid1107082845215010048_pid110...</td>\n",
       "      <td>{'fileName': 'candid1107082845215010048_ref.fi...</td>\n",
       "      <td>{'fileName': 'candid1107082845215010048_pid110...</td>\n",
       "    </tr>\n",
       "  </tbody>\n",
       "</table>\n",
       "</div>"
      ],
      "text/plain": [
       "  schemavsn                  publisher      objectId               candid  \\\n",
       "0       3.3  ZTF (www.ztf.caltech.edu)  ZTF20aaeyyno  1107083294115015013   \n",
       "1       3.3  ZTF (www.ztf.caltech.edu)  ZTF18abasuac  1107088094015015006   \n",
       "2       3.3  ZTF (www.ztf.caltech.edu)  ZTF18abscgeq  1107085322515015001   \n",
       "3       3.3  ZTF (www.ztf.caltech.edu)  ZTF18abuuoea  1107083292715010005   \n",
       "4       3.3  ZTF (www.ztf.caltech.edu)  ZTF18acfojty  1107082845215010048   \n",
       "\n",
       "                                           candidate  \\\n",
       "0  {'jd': 2458861.5832986, 'fid': 2, 'pid': 11070...   \n",
       "1  {'jd': 2458861.5880903, 'fid': 1, 'pid': 11070...   \n",
       "2  {'jd': 2458861.5853241, 'fid': 1, 'pid': 11070...   \n",
       "3  {'jd': 2458861.5832986, 'fid': 2, 'pid': 11070...   \n",
       "4  {'jd': 2458861.5828472, 'fid': 2, 'pid': 11070...   \n",
       "\n",
       "                                      prv_candidates  \\\n",
       "0  [{'jd': 2458835.5740856, 'fid': 2, 'pid': 1081...   \n",
       "1  [{'jd': 2458833.6249306, 'fid': 1, 'pid': 1079...   \n",
       "2  [{'jd': 2458837.5841204, 'fid': 2, 'pid': 1083...   \n",
       "3  [{'jd': 2458835.5740856, 'fid': 2, 'pid': 1081...   \n",
       "4  [{'jd': 2458833.5703356, 'fid': 2, 'pid': 1079...   \n",
       "\n",
       "                                       cutoutScience  \\\n",
       "0  {'fileName': 'candid1107083294115015013_pid110...   \n",
       "1  {'fileName': 'candid1107088094015015006_pid110...   \n",
       "2  {'fileName': 'candid1107085322515015001_pid110...   \n",
       "3  {'fileName': 'candid1107083292715010005_pid110...   \n",
       "4  {'fileName': 'candid1107082845215010048_pid110...   \n",
       "\n",
       "                                      cutoutTemplate  \\\n",
       "0  {'fileName': 'candid1107083294115015013_ref.fi...   \n",
       "1  {'fileName': 'candid1107088094015015006_ref.fi...   \n",
       "2  {'fileName': 'candid1107085322515015001_ref.fi...   \n",
       "3  {'fileName': 'candid1107083292715010005_ref.fi...   \n",
       "4  {'fileName': 'candid1107082845215010048_ref.fi...   \n",
       "\n",
       "                                    cutoutDifference  \n",
       "0  {'fileName': 'candid1107083294115015013_pid110...  \n",
       "1  {'fileName': 'candid1107088094015015006_pid110...  \n",
       "2  {'fileName': 'candid1107085322515015001_pid110...  \n",
       "3  {'fileName': 'candid1107083292715010005_pid110...  \n",
       "4  {'fileName': 'candid1107082845215010048_pid110...  "
      ]
     },
     "execution_count": 2,
     "metadata": {},
     "output_type": "execute_result"
    }
   ],
   "source": [
    "alerts.head()"
   ]
  },
  {
   "cell_type": "markdown",
   "metadata": {},
   "source": [
    "The first field of interest for us is `candidate` that contains the data for the measurement"
   ]
  },
  {
   "cell_type": "code",
   "execution_count": 3,
   "metadata": {},
   "outputs": [
    {
     "data": {
      "text/plain": [
       "0    {'jd': 2458861.5832986, 'fid': 2, 'pid': 11070...\n",
       "1    {'jd': 2458861.5880903, 'fid': 1, 'pid': 11070...\n",
       "2    {'jd': 2458861.5853241, 'fid': 1, 'pid': 11070...\n",
       "3    {'jd': 2458861.5832986, 'fid': 2, 'pid': 11070...\n",
       "4    {'jd': 2458861.5828472, 'fid': 2, 'pid': 11070...\n",
       "Name: candidate, dtype: object"
      ]
     },
     "execution_count": 3,
     "metadata": {},
     "output_type": "execute_result"
    }
   ],
   "source": [
    "# Each row is a dictionary\n",
    "alerts['candidate'].head()"
   ]
  },
  {
   "cell_type": "markdown",
   "metadata": {},
   "source": [
    "The other field is `prv_candidates` that contains the history of the alerts over a period of 30 days"
   ]
  },
  {
   "cell_type": "code",
   "execution_count": 4,
   "metadata": {},
   "outputs": [
    {
     "data": {
      "text/plain": [
       "0    [{'jd': 2458835.5740856, 'fid': 2, 'pid': 1081...\n",
       "1    [{'jd': 2458833.6249306, 'fid': 1, 'pid': 1079...\n",
       "2    [{'jd': 2458837.5841204, 'fid': 2, 'pid': 1083...\n",
       "3    [{'jd': 2458835.5740856, 'fid': 2, 'pid': 1081...\n",
       "4    [{'jd': 2458833.5703356, 'fid': 2, 'pid': 1079...\n",
       "Name: prv_candidates, dtype: object"
      ]
     },
     "execution_count": 4,
     "metadata": {},
     "output_type": "execute_result"
    }
   ],
   "source": [
    "# Each row is a list of dictionary\n",
    "alerts['prv_candidates'].head()"
   ]
  },
  {
   "cell_type": "markdown",
   "metadata": {},
   "source": [
    "Let's focus on one single alert for this exercise:"
   ]
  },
  {
   "cell_type": "code",
   "execution_count": 5,
   "metadata": {},
   "outputs": [],
   "source": [
    "# Let's take the third alert\n",
    "alert = r.to_list(10)[2]"
   ]
  },
  {
   "cell_type": "code",
   "execution_count": 6,
   "metadata": {},
   "outputs": [],
   "source": [
    "import matplotlib.pyplot as plt\n",
    "import matplotlib\n",
    "\n",
    "import numpy as np\n",
    "from fink_client.visualisation import extract_field\n",
    "\n",
    "def plot_lightcurve(alert_dic: dict) -> None:\n",
    "    \"\"\" Plot the full lightcurve contained in a ZTF alert\n",
    "    \n",
    "    Parameters\n",
    "    ----------\n",
    "    alert_dic: dict\n",
    "        Dictionnary containing the alert data\n",
    "    \"\"\"\n",
    "    # Font for plots\n",
    "    font = {\n",
    "        'weight': 'bold',\n",
    "        'size': 22\n",
    "    }\n",
    "\n",
    "    matplotlib.rc('font', **font)\n",
    "\n",
    "    # Bands\n",
    "    filter_color = {1: '#1f77b4', 2: '#ff7f0e', 3: '#2ca02c'}\n",
    "    # [\n",
    "    #     '#1f77b4',  # muted blue\n",
    "    #     '#ff7f0e',  # safety orange\n",
    "    #     '#2ca02c',  # cooked asparagus green\n",
    "    #     '#d62728',  # brick red\n",
    "    #     '#9467bd',  # muted purple\n",
    "    #     '#8c564b',  # chestnut brown\n",
    "    #     '#e377c2',  # raspberry yogurt pink\n",
    "    #     '#7f7f7f',  # middle gray\n",
    "    #     '#bcbd22',  # curry yellow-green\n",
    "    #     '#17becf'   # blue-teal\n",
    "    # ]\n",
    "    filter_name = {1: 'g band', 2: 'r band', 3: 'i band'}\n",
    "    \n",
    "    # extract current and historical data as one vector\n",
    "    mag = extract_field(alert_dic, 'magpsf')\n",
    "    error = extract_field(alert_dic, 'sigmapsf')\n",
    "    upper = extract_field(alert_dic, \"diffmaglim\")\n",
    "    \n",
    "    # filter bands\n",
    "    fid = extract_field(alert_dic, \"fid\")\n",
    "    \n",
    "    # Rescale dates to end at 0\n",
    "    jd = extract_field(alert_dic, \"jd\")\n",
    "    dates = np.array([i - jd[0] for i in jd])\n",
    "\n",
    "    # Title of the plot (alert ID)\n",
    "    title = alert[\"objectId\"]\n",
    "\n",
    "    # loop over filters\n",
    "    fig = plt.figure(figsize=(12,4))\n",
    "    \n",
    "    # Loop over each filter\n",
    "    for filt in filter_color.keys():\n",
    "        mask = np.where(fid == filt)[0]\n",
    "        \n",
    "        # Skip if no data\n",
    "        if len(mask) == 0:\n",
    "            continue\n",
    "\n",
    "        # y data\n",
    "        maskNotNone = mag[mask] != None\n",
    "        plt.errorbar(\n",
    "            dates[mask][maskNotNone], mag[mask][maskNotNone], yerr=error[mask][maskNotNone], \n",
    "            color=filter_color[filt], marker='o', ls='', label=filter_name[filt], mew=4)\n",
    "        # Upper limits\n",
    "        plt.plot(\n",
    "            dates[mask][~maskNotNone], upper[mask][~maskNotNone], \n",
    "            color=filter_color[filt], marker='v', ls='', mew=4, alpha=0.5)\n",
    "        plt.title(title)\n",
    "    plt.legend()\n",
    "    plt.gca().invert_yaxis()\n",
    "    plt.xlabel('Days to candidate')\n",
    "    plt.ylabel('Difference magnitude')\n",
    "    plt.show()\n"
   ]
  },
  {
   "cell_type": "markdown",
   "metadata": {},
   "source": [
    "Notice that we focus on `magpsf` and `sigmapsf` - these are the magnitude and error that you want to replace."
   ]
  },
  {
   "cell_type": "code",
   "execution_count": 7,
   "metadata": {},
   "outputs": [
    {
     "data": {
      "image/png": "[encoded data removed]",
      "text/plain": [
       "<Figure size 864x288 with 1 Axes>"
      ]
     },
     "metadata": {
      "needs_background": "light"
     },
     "output_type": "display_data"
    }
   ],
   "source": [
    "plot_lightcurve(alert)"
   ]
  },
  {
   "cell_type": "markdown",
   "metadata": {},
   "source": [
    "## Replacing alert data, and saving\n",
    "\n",
    "Let's replace our alert data, and saving the new alert on disk. We need to replace at least the current measurement, and the previous measurements."
   ]
  },
  {
   "cell_type": "code",
   "execution_count": 8,
   "metadata": {},
   "outputs": [
    {
     "name": "stdout",
     "output_type": "stream",
     "text": [
      "8 historical measurements\n",
      "Historical measurements between 2458837.5841204 and 2458861.5853241\n"
     ]
    }
   ],
   "source": [
    "n_historical_measurements = len(alert['prv_candidates'])\n",
    "print('{} historical measurements'.format(n_historical_measurements))\n",
    "\n",
    "# Generate fake data over new historical days\n",
    "jd_min = np.min([alert['prv_candidates'][i]['jd'] for i in range(n_historical_measurements)])\n",
    "jd_max = alert['candidate']['jd']\n",
    "print('Historical measurements between {} and {}'.format(jd_min, jd_max))"
   ]
  },
  {
   "cell_type": "markdown",
   "metadata": {},
   "source": [
    "Let's put new measurements - beware change in-place! We also do it for different filter bands"
   ]
  },
  {
   "cell_type": "code",
   "execution_count": 9,
   "metadata": {},
   "outputs": [],
   "source": [
    "[\n",
    "    alert['prv_candidates'][i].update({'magpsf': 20}) \n",
    "    if alert['prv_candidates'][i]['fid'] == 1\n",
    "    else alert['prv_candidates'][i].update({'magpsf': 19}) \n",
    "    for i in range(n_historical_measurements)\n",
    "]\n",
    "\n",
    "[\n",
    "    alert['prv_candidates'][i].update({'sigmapsf': 3}) \n",
    "    for i in range(n_historical_measurements) \n",
    "]\n",
    "\n",
    "[\n",
    "    alert['prv_candidates'][i].update({'diffmaglim': None}) \n",
    "    for i in range(n_historical_measurements) \n",
    "]\n",
    "\n",
    "alert['candidate'].update({'magpsf': 15})  \n",
    "alert['candidate'].update({'sigmapsf': 2})  "
   ]
  },
  {
   "cell_type": "code",
   "execution_count": 10,
   "metadata": {},
   "outputs": [
    {
     "data": {
      "image/png": "[encoded data removed]",
      "text/plain": [
       "<Figure size 864x288 with 1 Axes>"
      ]
     },
     "metadata": {
      "needs_background": "light"
     },
     "output_type": "display_data"
    }
   ],
   "source": [
    "plot_lightcurve(alert)"
   ]
  },
  {
   "cell_type": "markdown",
   "metadata": {},
   "source": [
    "Of course, one could take into account other alert parameters - but I guess you have the idea! Finally save your new alert:"
   ]
  },
  {
   "cell_type": "code",
   "execution_count": 11,
   "metadata": {},
   "outputs": [
    {
     "name": "stderr",
     "output_type": "stream",
     "text": [
      "/Users/julien/anaconda3/lib/python3.7/site-packages/ipykernel_launcher.py:20: DeprecationWarning: The 'schema' attribute is deprecated. Please use 'writer_schema'\n"
     ]
    }
   ],
   "source": [
    "from fink_client.avroUtils import write_alert\n",
    "import fastavro\n",
    "\n",
    "def readschemafromavrofile(fn: str) -> dict:\n",
    "    \"\"\" Reach schema from a binary avro file.\n",
    "\n",
    "    Parameters\n",
    "    ----------\n",
    "    fn: str\n",
    "        Input Avro file with schema.\n",
    "\n",
    "    Returns\n",
    "    ----------\n",
    "    schema: dict\n",
    "        Dictionary (JSON) describing the schema.\n",
    "\n",
    "    \"\"\"\n",
    "    with open(fn, mode='rb') as file_data:\n",
    "        data = fastavro.reader(file_data)\n",
    "        schema = data.schema\n",
    "    return schema\n",
    "\n",
    "schema = readschemafromavrofile(r.filenames[0])\n",
    "\n",
    "# In this routine, the output filename is not an option\n",
    "# Do not hesitate to change this routine if you want another output filename.\n",
    "write_alert(alert, schema, path='.', overwrite=True)"
   ]
  },
  {
   "cell_type": "markdown",
   "metadata": {},
   "source": [
    "Et voilà!"
   ]
  },
  {
   "cell_type": "code",
   "execution_count": 12,
   "metadata": {},
   "outputs": [
    {
     "name": "stdout",
     "output_type": "stream",
     "text": [
      "ZTF18abscgeq.avro           templating_ztf_alerts.ipynb\r\n"
     ]
    }
   ],
   "source": [
    "!ls"
   ]
  },
  {
   "cell_type": "code",
   "execution_count": 15,
   "metadata": {},
   "outputs": [
    {
     "data": {
      "text/html": [
       "<div>\n",
       "<style scoped>\n",
       "    .dataframe tbody tr th:only-of-type {\n",
       "        vertical-align: middle;\n",
       "    }\n",
       "\n",
       "    .dataframe tbody tr th {\n",
       "        vertical-align: top;\n",
       "    }\n",
       "\n",
       "    .dataframe thead th {\n",
       "        text-align: right;\n",
       "    }\n",
       "</style>\n",
       "<table border=\"1\" class=\"dataframe\">\n",
       "  <thead>\n",
       "    <tr style=\"text-align: right;\">\n",
       "      <th></th>\n",
       "      <th>schemavsn</th>\n",
       "      <th>publisher</th>\n",
       "      <th>objectId</th>\n",
       "      <th>candid</th>\n",
       "      <th>candidate</th>\n",
       "      <th>prv_candidates</th>\n",
       "      <th>cutoutScience</th>\n",
       "      <th>cutoutTemplate</th>\n",
       "      <th>cutoutDifference</th>\n",
       "    </tr>\n",
       "  </thead>\n",
       "  <tbody>\n",
       "    <tr>\n",
       "      <td>0</td>\n",
       "      <td>3.3</td>\n",
       "      <td>ZTF (www.ztf.caltech.edu)</td>\n",
       "      <td>ZTF18abscgeq</td>\n",
       "      <td>1107085322515015001</td>\n",
       "      <td>{'jd': 2458861.5853241, 'fid': 1, 'pid': 11070...</td>\n",
       "      <td>[{'jd': 2458837.5841204, 'fid': 2, 'pid': 1083...</td>\n",
       "      <td>{'fileName': 'candid1107085322515015001_pid110...</td>\n",
       "      <td>{'fileName': 'candid1107085322515015001_ref.fi...</td>\n",
       "      <td>{'fileName': 'candid1107085322515015001_pid110...</td>\n",
       "    </tr>\n",
       "  </tbody>\n",
       "</table>\n",
       "</div>"
      ],
      "text/plain": [
       "  schemavsn                  publisher      objectId               candid  \\\n",
       "0       3.3  ZTF (www.ztf.caltech.edu)  ZTF18abscgeq  1107085322515015001   \n",
       "\n",
       "                                           candidate  \\\n",
       "0  {'jd': 2458861.5853241, 'fid': 1, 'pid': 11070...   \n",
       "\n",
       "                                      prv_candidates  \\\n",
       "0  [{'jd': 2458837.5841204, 'fid': 2, 'pid': 1083...   \n",
       "\n",
       "                                       cutoutScience  \\\n",
       "0  {'fileName': 'candid1107085322515015001_pid110...   \n",
       "\n",
       "                                      cutoutTemplate  \\\n",
       "0  {'fileName': 'candid1107085322515015001_ref.fi...   \n",
       "\n",
       "                                    cutoutDifference  \n",
       "0  {'fileName': 'candid1107085322515015001_pid110...  "
      ]
     },
     "execution_count": 15,
     "metadata": {},
     "output_type": "execute_result"
    }
   ],
   "source": [
    "r2 = AlertReader('ZTF18abscgeq.avro')\n",
    "r2.to_pandas()"
   ]
  }
 ],
 "metadata": {
  "kernelspec": {
   "display_name": "Python 3",
   "language": "python",
   "name": "python3"
  },
  "language_info": {
   "codemirror_mode": {
    "name": "ipython",
    "version": 3
   },
   "file_extension": ".py",
   "mimetype": "text/x-python",
   "name": "python",
   "nbconvert_exporter": "python",
   "pygments_lexer": "ipython3",
   "version": "3.7.1"
  }
 },
 "nbformat": 4,
 "nbformat_minor": 2
}
